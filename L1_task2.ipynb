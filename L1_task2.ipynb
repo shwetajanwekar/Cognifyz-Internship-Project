{
 "cells": [
  {
   "cell_type": "code",
   "execution_count": 47,
   "id": "b0db25ba-6abd-480b-9726-2c38b6af827d",
   "metadata": {},
   "outputs": [
    {
     "name": "stdout",
     "output_type": "stream",
     "text": [
      "   Restaurant ID   Restaurant Name  Country Code         City  \\\n",
      "0        6317637  Le Petit Souffle           162  Makati City   \n",
      "\n",
      "                                             Address  \\\n",
      "0  Third Floor, Century City Mall, Kalayaan Avenu...   \n",
      "\n",
      "                                    Locality  \\\n",
      "0  Century City Mall, Poblacion, Makati City   \n",
      "\n",
      "                                    Locality Verbose   Longitude   Latitude  \\\n",
      "0  Century City Mall, Poblacion, Makati City, Mak...  121.027535  14.565443   \n",
      "\n",
      "                     Cuisines  ...          Currency Has Table booking  \\\n",
      "0  French, Japanese, Desserts  ...  Botswana Pula(P)               Yes   \n",
      "\n",
      "  Has Online delivery Is delivering now Switch to order menu Price range  \\\n",
      "0                  No                No                   No           3   \n",
      "\n",
      "   Aggregate rating  Rating color Rating text Votes  \n",
      "0               4.8    Dark Green   Excellent   314  \n",
      "\n",
      "[1 rows x 21 columns]\n"
     ]
    }
   ],
   "source": [
    "import pandas as pd\n",
    "import matplotlib.pyplot as plt\n",
    "data = pd.read_csv(\"D:/restaurant_dataset.csv\")\n",
    "print(data.head(1))"
   ]
  },
  {
   "cell_type": "markdown",
   "id": "2749ce12-8701-465a-8d50-d4d65db97e19",
   "metadata": {},
   "source": [
    "## Task 2: City Analysis\n",
    "### Identify the city with the highest number of restaurants\n"
   ]
  },
  {
   "cell_type": "code",
   "execution_count": 51,
   "id": "1139a1db-e211-4814-9a59-9debb883d795",
   "metadata": {},
   "outputs": [
    {
     "name": "stdout",
     "output_type": "stream",
     "text": [
      "highest number of Restaurants in City = New Delhi 5473\n"
     ]
    }
   ],
   "source": [
    "City_counts = data['City'].value_counts()\n",
    "City_most_restaurants = City_counts.idxmax()\n",
    "City_most_restaurants_count = City_counts.max()\n",
    "print(\"highest number of Restaurants in City =\",City_most_restaurants, City_most_restaurants_count)"
   ]
  },
  {
   "cell_type": "markdown",
   "id": "eb8d68b9-7178-44c9-bbb8-8ca56bc60855",
   "metadata": {},
   "source": [
    "##  Calculate the average rating for restaurants in each city\n"
   ]
  },
  {
   "cell_type": "code",
   "execution_count": 53,
   "id": "aca36bbc-0d04-43de-9abf-5ce8394c8b22",
   "metadata": {},
   "outputs": [
    {
     "name": "stdout",
     "output_type": "stream",
     "text": [
      "average_ratings for restaurant in each city = City\n",
      "Abu Dhabi          4.300000\n",
      "Agra               3.965000\n",
      "Ahmedabad          4.161905\n",
      "Albany             3.555000\n",
      "Allahabad          3.395000\n",
      "                     ...   \n",
      "Weirton            3.900000\n",
      "Wellington City    4.250000\n",
      "Winchester Bay     3.200000\n",
      "Yorkton            3.300000\n",
      "stanbul            4.292857\n",
      "Name: Aggregate rating, Length: 141, dtype: float64\n"
     ]
    }
   ],
   "source": [
    "average_ratings = data.groupby('City')['Aggregate rating'].mean()\n",
    "print(\"average_ratings for restaurant in each city =\", average_ratings)"
   ]
  },
  {
   "cell_type": "markdown",
   "id": "000b69fa-faf0-417a-8ac2-0430de1eb4a8",
   "metadata": {},
   "source": [
    "## Determine the city with the highest average rating\n"
   ]
  },
  {
   "cell_type": "code",
   "execution_count": 55,
   "id": "767140d4-850c-492e-99cf-37bfb8017657",
   "metadata": {},
   "outputs": [
    {
     "name": "stdout",
     "output_type": "stream",
     "text": [
      "City with the Highest Average Rating =  4.9\n"
     ]
    }
   ],
   "source": [
    "\n",
    "city_highest_avg_rating = average_ratings.idxmax()\n",
    "highest_avg_rating = average_ratings.max()\n",
    "print(\"City with the Highest Average Rating = \", highest_avg_rating)"
   ]
  },
  {
   "cell_type": "code",
   "execution_count": null,
   "id": "6ce08cf2-7948-4130-8393-b5b025449d23",
   "metadata": {},
   "outputs": [],
   "source": []
  }
 ],
 "metadata": {
  "kernelspec": {
   "display_name": "Python 3 (ipykernel)",
   "language": "python",
   "name": "python3"
  },
  "language_info": {
   "codemirror_mode": {
    "name": "ipython",
    "version": 3
   },
   "file_extension": ".py",
   "mimetype": "text/x-python",
   "name": "python",
   "nbconvert_exporter": "python",
   "pygments_lexer": "ipython3",
   "version": "3.12.4"
  }
 },
 "nbformat": 4,
 "nbformat_minor": 5
}

{
 "cells": [
  {
   "cell_type": "code",
   "execution_count": 1,
   "id": "17b5a5bf-e52b-4db1-9837-a405a179fd10",
   "metadata": {},
   "outputs": [
    {
     "name": "stdout",
     "output_type": "stream",
     "text": [
      "   Restaurant ID   Restaurant Name  Country Code         City  \\\n",
      "0        6317637  Le Petit Souffle           162  Makati City   \n",
      "\n",
      "                                             Address  \\\n",
      "0  Third Floor, Century City Mall, Kalayaan Avenu...   \n",
      "\n",
      "                                    Locality  \\\n",
      "0  Century City Mall, Poblacion, Makati City   \n",
      "\n",
      "                                    Locality Verbose   Longitude   Latitude  \\\n",
      "0  Century City Mall, Poblacion, Makati City, Mak...  121.027535  14.565443   \n",
      "\n",
      "                     Cuisines  ...          Currency Has Table booking  \\\n",
      "0  French, Japanese, Desserts  ...  Botswana Pula(P)               Yes   \n",
      "\n",
      "  Has Online delivery Is delivering now Switch to order menu Price range  \\\n",
      "0                  No                No                   No           3   \n",
      "\n",
      "   Aggregate rating  Rating color Rating text Votes  \n",
      "0               4.8    Dark Green   Excellent   314  \n",
      "\n",
      "[1 rows x 21 columns]\n"
     ]
    }
   ],
   "source": [
    "import pandas as pd\n",
    "import matplotlib.pyplot as plt\n",
    "data = pd.read_csv(\"D:/restaurant_dataset.csv\")\n",
    "print(data.head(1))"
   ]
  },
  {
   "cell_type": "markdown",
   "id": "506ba747-5d20-4e5d-9c5f-dc7a3b516567",
   "metadata": {},
   "source": [
    "# Level 2: Data Analysis\n",
    "## Task 1: Restaurant ratingsngs\n"
   ]
  },
  {
   "cell_type": "markdown",
   "id": "25320056-78a6-406f-a44c-653ee2d14f95",
   "metadata": {},
   "source": [
    "## Analyze the distribution of aggregate ratings and determine the most common rating range. "
   ]
  },
  {
   "cell_type": "code",
   "execution_count": 17,
   "id": "9ab221b5-107c-410e-beb4-82944c317d63",
   "metadata": {},
   "outputs": [
    {
     "name": "stdout",
     "output_type": "stream",
     "text": [
      "Aggregate rating\n",
      "0.0    2148\n",
      "3.2     522\n",
      "3.1     519\n",
      "3.4     498\n",
      "3.3     483\n",
      "3.5     480\n",
      "3.0     468\n",
      "3.6     458\n",
      "3.7     427\n",
      "3.8     400\n",
      "2.9     381\n",
      "3.9     335\n",
      "2.8     315\n",
      "4.1     274\n",
      "4.0     266\n",
      "2.7     250\n",
      "4.2     221\n",
      "2.6     191\n",
      "4.3     174\n",
      "4.4     144\n",
      "2.5     110\n",
      "4.5      95\n",
      "2.4      87\n",
      "4.6      78\n",
      "4.9      61\n",
      "2.3      47\n",
      "4.7      42\n",
      "2.2      27\n",
      "4.8      25\n",
      "2.1      15\n",
      "2.0       7\n",
      "1.9       2\n",
      "1.8       1\n",
      "Name: count, dtype: int64\n"
     ]
    },
    {
     "data": {
      "image/png": "[encoded data removed]",
      "text/plain": [
       "<Figure size 800x600 with 1 Axes>"
      ]
     },
     "metadata": {},
     "output_type": "display_data"
    }
   ],
   "source": [
    "agg_rating_distribution=data['Aggregate rating'].value_counts()\n",
    "print(agg_rating_distribution)\n",
    "\n",
    "plt.figure(figsize=(8, 6))\n",
    "plt.hist(data['Aggregate rating'], color='pink', edgecolor='black')\n",
    "plt.title('Distribution of Aggregate Ratings', fontsize=16)\n",
    "plt.xlabel('Aggregate Rating', fontsize=12)\n",
    "plt.ylabel('Number of Restaurants', fontsize=12)\n",
    "plt.show()\n"
   ]
  },
  {
   "cell_type": "markdown",
   "id": "4faa4f9b-6dd6-4a9c-91cc-03797355d98f",
   "metadata": {},
   "source": [
    "## Determine the most common rating range"
   ]
  },
  {
   "cell_type": "code",
   "execution_count": 26,
   "id": "887c179e-54d1-4ede-a4c5-3f5fcea705f5",
   "metadata": {},
   "outputs": [
    {
     "name": "stdout",
     "output_type": "stream",
     "text": [
      "The most common rating range is: (2.94, 3.43]\n"
     ]
    }
   ],
   "source": [
    "most_common_rating_range = pd.cut(data['Aggregate rating'], bins=10).value_counts().idxmax()\n",
    "print(\"The most common rating range is:\", most_common_rating_range)"
   ]
  },
  {
   "cell_type": "markdown",
   "id": "bc7e9a69-7821-47bc-bc89-da9496432b17",
   "metadata": {},
   "source": [
    "## Calculate the average number of votes received by restaurants."
   ]
  },
  {
   "cell_type": "code",
   "execution_count": 33,
   "id": "8998fc8e-7053-44e1-9bf5-5fdfa6bf9f2d",
   "metadata": {},
   "outputs": [
    {
     "name": "stdout",
     "output_type": "stream",
     "text": [
      "The average number of votes received by restaurants is: 156.91\n"
     ]
    }
   ],
   "source": [
    "average_votes =data['Votes'].mean()\n",
    "print(f\"The average number of votes received by restaurants is: {average_votes:.2f}\")\n"
   ]
  },
  {
   "cell_type": "code",
   "execution_count": null,
   "id": "4764a24c-2351-488f-95dd-145df826f3e2",
   "metadata": {},
   "outputs": [],
   "source": []
  }
 ],
 "metadata": {
  "kernelspec": {
   "display_name": "Python 3 (ipykernel)",
   "language": "python",
   "name": "python3"
  },
  "language_info": {
   "codemirror_mode": {
    "name": "ipython",
    "version": 3
   },
   "file_extension": ".py",
   "mimetype": "text/x-python",
   "name": "python",
   "nbconvert_exporter": "python",
   "pygments_lexer": "ipython3",
   "version": "3.12.4"
  }
 },
 "nbformat": 4,
 "nbformat_minor": 5
}

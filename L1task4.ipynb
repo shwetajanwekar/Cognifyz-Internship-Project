{
 "cells": [
  {
   "cell_type": "code",
   "execution_count": 2,
   "id": "93421fa1-91c5-4429-9935-b0930d5b573c",
   "metadata": {},
   "outputs": [
    {
     "name": "stdout",
     "output_type": "stream",
     "text": [
      "   Restaurant ID   Restaurant Name  Country Code         City  \\\n",
      "0        6317637  Le Petit Souffle           162  Makati City   \n",
      "\n",
      "                                             Address  \\\n",
      "0  Third Floor, Century City Mall, Kalayaan Avenu...   \n",
      "\n",
      "                                    Locality  \\\n",
      "0  Century City Mall, Poblacion, Makati City   \n",
      "\n",
      "                                    Locality Verbose   Longitude   Latitude  \\\n",
      "0  Century City Mall, Poblacion, Makati City, Mak...  121.027535  14.565443   \n",
      "\n",
      "                     Cuisines  ...          Currency Has Table booking  \\\n",
      "0  French, Japanese, Desserts  ...  Botswana Pula(P)               Yes   \n",
      "\n",
      "  Has Online delivery Is delivering now Switch to order menu Price range  \\\n",
      "0                  No                No                   No           3   \n",
      "\n",
      "   Aggregate rating  Rating color Rating text Votes  \n",
      "0               4.8    Dark Green   Excellent   314  \n",
      "\n",
      "[1 rows x 21 columns]\n"
     ]
    }
   ],
   "source": [
    "import pandas as pd\n",
    "import matplotlib.pyplot as plt\n",
    "data = pd.read_csv(\"D:/restaurant_dataset.csv\")\n",
    "print(data.head(1))"
   ]
  },
  {
   "cell_type": "markdown",
   "id": "e2bda885-99d8-459a-b1d8-324e7c82ba35",
   "metadata": {},
   "source": [
    "# Task 4: Online Delivery\n",
    "## Determine the percentage of restaurants that offer online delivery"
   ]
  },
  {
   "cell_type": "code",
   "execution_count": 14,
   "id": "56c2f07c-67c8-407a-b8cf-64db76ec6c4f",
   "metadata": {},
   "outputs": [
    {
     "name": "stdout",
     "output_type": "stream",
     "text": [
      " No. of restaurants offer Online Delivery are : Has Online delivery\n",
      "No     7100\n",
      "Yes    2451\n",
      "Name: count, dtype: int64\n",
      "Percentage of restaurants offering online delivery: Has Online delivery\n",
      "No     74.337766\n",
      "Yes    25.662234\n",
      "Name: count, dtype: float64\n"
     ]
    }
   ],
   "source": [
    "online_delivery_counts = data['Has Online delivery'].value_counts()\n",
    "print(\" No. of restaurants offer Online Delivery are :\",online_delivery_counts)\n",
    "online_delivery_percentages = (online_delivery_counts / online_delivery_counts.sum()) * 100\n",
    "print(\"Percentage of restaurants offering online delivery:\",online_delivery_percentages)"
   ]
  },
  {
   "cell_type": "markdown",
   "id": "c5db579d-2a0b-437d-94c8-71b1128789dc",
   "metadata": {},
   "source": [
    "## Compare the average ratings for restaurants with and without online delivery"
   ]
  },
  {
   "cell_type": "code",
   "execution_count": 16,
   "id": "62f1e615-47c2-4847-8830-c22f02592a90",
   "metadata": {},
   "outputs": [
    {
     "name": "stdout",
     "output_type": "stream",
     "text": [
      "\n",
      "Average ratings of restaurants:\n",
      "Has Online delivery\n",
      "No     2.465296\n",
      "Yes    3.248837\n",
      "Name: Aggregate rating, dtype: float64\n"
     ]
    }
   ],
   "source": [
    "average_ratings = data.groupby('Has Online delivery')['Aggregate rating'].mean()\n",
    "print(\"\\nAverage ratings of restaurants:\",average_ratings)\n"
   ]
  },
  {
   "cell_type": "code",
   "execution_count": 23,
   "id": "bfe90d5d-94a2-4a85-86ec-4721716d5962",
   "metadata": {},
   "outputs": [
    {
     "data": {
      "image/png": "[encoded data removed]",
      "text/plain": [
       "<Figure size 640x480 with 1 Axes>"
      ]
     },
     "metadata": {},
     "output_type": "display_data"
    }
   ],
   "source": [
    "labels = ['YES', 'NO']\n",
    "colors='lightgreen','pink'\n",
    "plt.bar(labels, average_ratings, color=colors)\n",
    "plt.ylabel('Online Delivery')\n",
    "plt.xlabel('Average Rating')\n",
    "plt.title('Comparison of Average Ratings of Online delivery')\n",
    "plt.show()\n"
   ]
  },
  {
   "cell_type": "code",
   "execution_count": null,
   "id": "348d3925-64be-47ec-86bd-46e13f52ba85",
   "metadata": {},
   "outputs": [],
   "source": []
  }
 ],
 "metadata": {
  "kernelspec": {
   "display_name": "Python 3 (ipykernel)",
   "language": "python",
   "name": "python3"
  },
  "language_info": {
   "codemirror_mode": {
    "name": "ipython",
    "version": 3
   },
   "file_extension": ".py",
   "mimetype": "text/x-python",
   "name": "python",
   "nbconvert_exporter": "python",
   "pygments_lexer": "ipython3",
   "version": "3.12.4"
  }
 },
 "nbformat": 4,
 "nbformat_minor": 5
}
